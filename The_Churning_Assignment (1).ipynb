{
  "nbformat": 4,
  "nbformat_minor": 0,
  "metadata": {
    "colab": {
      "provenance": []
    },
    "kernelspec": {
      "name": "python3",
      "display_name": "Python 3"
    },
    "language_info": {
      "name": "python"
    }
  },
  "cells": [
    {
      "cell_type": "code",
      "execution_count": 3,
      "metadata": {
        "id": "1WUcES01ubmS"
      },
      "outputs": [],
      "source": [
        "import pandas as pd\n",
        "import numpy as np\n",
        "\n"
      ]
    },
    {
      "cell_type": "code",
      "source": [
        "from google.colab import drive\n",
        "drive.mount('/content/drive')"
      ],
      "metadata": {
        "colab": {
          "base_uri": "https://localhost:8080/"
        },
        "id": "Ht5nGppjvAMq",
        "outputId": "981b5cd0-722d-44b1-f866-60c8efc38ccb"
      },
      "execution_count": 4,
      "outputs": [
        {
          "output_type": "stream",
          "name": "stdout",
          "text": [
            "Drive already mounted at /content/drive; to attempt to forcibly remount, call drive.mount(\"/content/drive\", force_remount=True).\n"
          ]
        }
      ]
    },
    {
      "cell_type": "code",
      "source": [
        "\n",
        "churn_file = pd.read_csv('/content/CustomerChurn_dataset.csv')\n",
        "churn_file= pd.DataFrame(churn_file)\n",
        "churn_file.head()\n",
        "#churn_file.tail()\n",
        "churn_file.info()"
      ],
      "metadata": {
        "id": "0xsoeB9Av0dQ",
        "colab": {
          "base_uri": "https://localhost:8080/"
        },
        "outputId": "9fa70692-97fd-4da5-b440-eb8c01fc0df2"
      },
      "execution_count": 6,
      "outputs": [
        {
          "output_type": "stream",
          "name": "stdout",
          "text": [
            "<class 'pandas.core.frame.DataFrame'>\n",
            "RangeIndex: 7043 entries, 0 to 7042\n",
            "Data columns (total 21 columns):\n",
            " #   Column            Non-Null Count  Dtype  \n",
            "---  ------            --------------  -----  \n",
            " 0   customerID        7043 non-null   object \n",
            " 1   gender            7043 non-null   object \n",
            " 2   SeniorCitizen     7043 non-null   int64  \n",
            " 3   Partner           7043 non-null   object \n",
            " 4   Dependents        7043 non-null   object \n",
            " 5   tenure            7043 non-null   int64  \n",
            " 6   PhoneService      7043 non-null   object \n",
            " 7   MultipleLines     7043 non-null   object \n",
            " 8   InternetService   7043 non-null   object \n",
            " 9   OnlineSecurity    7043 non-null   object \n",
            " 10  OnlineBackup      7043 non-null   object \n",
            " 11  DeviceProtection  7043 non-null   object \n",
            " 12  TechSupport       7043 non-null   object \n",
            " 13  StreamingTV       7043 non-null   object \n",
            " 14  StreamingMovies   7043 non-null   object \n",
            " 15  Contract          7043 non-null   object \n",
            " 16  PaperlessBilling  7043 non-null   object \n",
            " 17  PaymentMethod     7043 non-null   object \n",
            " 18  MonthlyCharges    7043 non-null   float64\n",
            " 19  TotalCharges      7043 non-null   object \n",
            " 20  Churn             7043 non-null   object \n",
            "dtypes: float64(1), int64(2), object(18)\n",
            "memory usage: 1.1+ MB\n"
          ]
        }
      ]
    },
    {
      "cell_type": "markdown",
      "source": [
        "Pre-processing"
      ],
      "metadata": {
        "id": "5DRYzA1_bY0z"
      }
    },
    {
      "cell_type": "markdown",
      "source": [
        "Dropping repeated or duplicate data and missing values"
      ],
      "metadata": {
        "id": "2jXhQmK9WPcS"
      }
    },
    {
      "cell_type": "code",
      "source": [
        "churn_file = churn_file.drop_duplicates()\n",
        "\n",
        "#checking to see if there are missing values in the churn_file dataset\n",
        "def has_missing_values(churn_file):\n",
        "  return churn_file.isna().any().any()\n",
        "#using if else to finally print out the result\n",
        "if has_missing_values(churn_file):\n",
        "  print(\"has missing values\")\n",
        "else:\n",
        "  print(\"no missing values\")\n",
        "\n",
        "  #Since there are no missing values, no need to use the drop.na() function\n"
      ],
      "metadata": {
        "id": "80ZLrYuZWYwn",
        "colab": {
          "base_uri": "https://localhost:8080/"
        },
        "outputId": "d151a093-d1f0-4163-c1b0-386a845f495b"
      },
      "execution_count": 7,
      "outputs": [
        {
          "output_type": "stream",
          "name": "stdout",
          "text": [
            "no missing values\n"
          ]
        }
      ]
    },
    {
      "cell_type": "markdown",
      "source": [
        "Seperating features into numeric and non-numeric:"
      ],
      "metadata": {
        "id": "ZmjENXurba1I"
      }
    },
    {
      "cell_type": "code",
      "source": [
        "\n",
        "#Take customerID out, it's not a useful feature for predicting churning outcomes\n",
        "\n",
        "if 'customerID' in churn_file.columns:\n",
        "  churn_file.drop('customerID', axis=1, inplace=True)\n",
        "else:\n",
        "  print(\"CustomerID not found\")\n",
        "#churn_file.head()\n",
        "\n",
        "#Convert object to float for the TotalCharges column\n",
        "churn_file['TotalCharges']= pd.to_numeric(churn_file['TotalCharges'], errors='coerce', downcast= 'float')\n",
        "\n",
        "#select numeric columns\n",
        "churn_numeric = churn_file.select_dtypes(include = ['int64', 'float64','float32'])\n",
        "churn_numeric = pd.DataFrame(churn_numeric)\n",
        "churn_numeric\n",
        "#Select categoric columns\n",
        "churn_categoric = churn_file.select_dtypes(exclude = ['int64', 'float64','float32'])\n",
        "churn_categoric = pd.DataFrame(churn_categoric)\n",
        "churn_categoric\n",
        "\n",
        "\n"
      ],
      "metadata": {
        "id": "l37Bs0lybl7C",
        "colab": {
          "base_uri": "https://localhost:8080/",
          "height": 582
        },
        "outputId": "7a434ed4-bf36-47cc-f048-0dfc28b8e77d"
      },
      "execution_count": 8,
      "outputs": [
        {
          "output_type": "execute_result",
          "data": {
            "text/plain": [
              "      gender Partner Dependents PhoneService     MultipleLines  \\\n",
              "0     Female     Yes         No           No  No phone service   \n",
              "1       Male      No         No          Yes                No   \n",
              "2       Male      No         No          Yes                No   \n",
              "3       Male      No         No           No  No phone service   \n",
              "4     Female      No         No          Yes                No   \n",
              "...      ...     ...        ...          ...               ...   \n",
              "7038    Male     Yes        Yes          Yes               Yes   \n",
              "7039  Female     Yes        Yes          Yes               Yes   \n",
              "7040  Female     Yes        Yes           No  No phone service   \n",
              "7041    Male     Yes         No          Yes               Yes   \n",
              "7042    Male      No         No          Yes                No   \n",
              "\n",
              "     InternetService OnlineSecurity OnlineBackup DeviceProtection TechSupport  \\\n",
              "0                DSL             No          Yes               No          No   \n",
              "1                DSL            Yes           No              Yes          No   \n",
              "2                DSL            Yes          Yes               No          No   \n",
              "3                DSL            Yes           No              Yes         Yes   \n",
              "4        Fiber optic             No           No               No          No   \n",
              "...              ...            ...          ...              ...         ...   \n",
              "7038             DSL            Yes           No              Yes         Yes   \n",
              "7039     Fiber optic             No          Yes              Yes          No   \n",
              "7040             DSL            Yes           No               No          No   \n",
              "7041     Fiber optic             No           No               No          No   \n",
              "7042     Fiber optic            Yes           No              Yes         Yes   \n",
              "\n",
              "     StreamingTV StreamingMovies        Contract PaperlessBilling  \\\n",
              "0             No              No  Month-to-month              Yes   \n",
              "1             No              No        One year               No   \n",
              "2             No              No  Month-to-month              Yes   \n",
              "3             No              No        One year               No   \n",
              "4             No              No  Month-to-month              Yes   \n",
              "...          ...             ...             ...              ...   \n",
              "7038         Yes             Yes        One year              Yes   \n",
              "7039         Yes             Yes        One year              Yes   \n",
              "7040          No              No  Month-to-month              Yes   \n",
              "7041          No              No  Month-to-month              Yes   \n",
              "7042         Yes             Yes        Two year              Yes   \n",
              "\n",
              "                  PaymentMethod Churn  \n",
              "0              Electronic check    No  \n",
              "1                  Mailed check    No  \n",
              "2                  Mailed check   Yes  \n",
              "3     Bank transfer (automatic)    No  \n",
              "4              Electronic check   Yes  \n",
              "...                         ...   ...  \n",
              "7038               Mailed check    No  \n",
              "7039    Credit card (automatic)    No  \n",
              "7040           Electronic check    No  \n",
              "7041               Mailed check   Yes  \n",
              "7042  Bank transfer (automatic)    No  \n",
              "\n",
              "[7043 rows x 16 columns]"
            ],
            "text/html": [
              "\n",
              "  <div id=\"df-9058e055-8173-4599-a939-2ddaf821ac29\" class=\"colab-df-container\">\n",
              "    <div>\n",
              "<style scoped>\n",
              "    .dataframe tbody tr th:only-of-type {\n",
              "        vertical-align: middle;\n",
              "    }\n",
              "\n",
              "    .dataframe tbody tr th {\n",
              "        vertical-align: top;\n",
              "    }\n",
              "\n",
              "    .dataframe thead th {\n",
              "        text-align: right;\n",
              "    }\n",
              "</style>\n",
              "<table border=\"1\" class=\"dataframe\">\n",
              "  <thead>\n",
              "    <tr style=\"text-align: right;\">\n",
              "      <th></th>\n",
              "      <th>gender</th>\n",
              "      <th>Partner</th>\n",
              "      <th>Dependents</th>\n",
              "      <th>PhoneService</th>\n",
              "      <th>MultipleLines</th>\n",
              "      <th>InternetService</th>\n",
              "      <th>OnlineSecurity</th>\n",
              "      <th>OnlineBackup</th>\n",
              "      <th>DeviceProtection</th>\n",
              "      <th>TechSupport</th>\n",
              "      <th>StreamingTV</th>\n",
              "      <th>StreamingMovies</th>\n",
              "      <th>Contract</th>\n",
              "      <th>PaperlessBilling</th>\n",
              "      <th>PaymentMethod</th>\n",
              "      <th>Churn</th>\n",
              "    </tr>\n",
              "  </thead>\n",
              "  <tbody>\n",
              "    <tr>\n",
              "      <th>0</th>\n",
              "      <td>Female</td>\n",
              "      <td>Yes</td>\n",
              "      <td>No</td>\n",
              "      <td>No</td>\n",
              "      <td>No phone service</td>\n",
              "      <td>DSL</td>\n",
              "      <td>No</td>\n",
              "      <td>Yes</td>\n",
              "      <td>No</td>\n",
              "      <td>No</td>\n",
              "      <td>No</td>\n",
              "      <td>No</td>\n",
              "      <td>Month-to-month</td>\n",
              "      <td>Yes</td>\n",
              "      <td>Electronic check</td>\n",
              "      <td>No</td>\n",
              "    </tr>\n",
              "    <tr>\n",
              "      <th>1</th>\n",
              "      <td>Male</td>\n",
              "      <td>No</td>\n",
              "      <td>No</td>\n",
              "      <td>Yes</td>\n",
              "      <td>No</td>\n",
              "      <td>DSL</td>\n",
              "      <td>Yes</td>\n",
              "      <td>No</td>\n",
              "      <td>Yes</td>\n",
              "      <td>No</td>\n",
              "      <td>No</td>\n",
              "      <td>No</td>\n",
              "      <td>One year</td>\n",
              "      <td>No</td>\n",
              "      <td>Mailed check</td>\n",
              "      <td>No</td>\n",
              "    </tr>\n",
              "    <tr>\n",
              "      <th>2</th>\n",
              "      <td>Male</td>\n",
              "      <td>No</td>\n",
              "      <td>No</td>\n",
              "      <td>Yes</td>\n",
              "      <td>No</td>\n",
              "      <td>DSL</td>\n",
              "      <td>Yes</td>\n",
              "      <td>Yes</td>\n",
              "      <td>No</td>\n",
              "      <td>No</td>\n",
              "      <td>No</td>\n",
              "      <td>No</td>\n",
              "      <td>Month-to-month</td>\n",
              "      <td>Yes</td>\n",
              "      <td>Mailed check</td>\n",
              "      <td>Yes</td>\n",
              "    </tr>\n",
              "    <tr>\n",
              "      <th>3</th>\n",
              "      <td>Male</td>\n",
              "      <td>No</td>\n",
              "      <td>No</td>\n",
              "      <td>No</td>\n",
              "      <td>No phone service</td>\n",
              "      <td>DSL</td>\n",
              "      <td>Yes</td>\n",
              "      <td>No</td>\n",
              "      <td>Yes</td>\n",
              "      <td>Yes</td>\n",
              "      <td>No</td>\n",
              "      <td>No</td>\n",
              "      <td>One year</td>\n",
              "      <td>No</td>\n",
              "      <td>Bank transfer (automatic)</td>\n",
              "      <td>No</td>\n",
              "    </tr>\n",
              "    <tr>\n",
              "      <th>4</th>\n",
              "      <td>Female</td>\n",
              "      <td>No</td>\n",
              "      <td>No</td>\n",
              "      <td>Yes</td>\n",
              "      <td>No</td>\n",
              "      <td>Fiber optic</td>\n",
              "      <td>No</td>\n",
              "      <td>No</td>\n",
              "      <td>No</td>\n",
              "      <td>No</td>\n",
              "      <td>No</td>\n",
              "      <td>No</td>\n",
              "      <td>Month-to-month</td>\n",
              "      <td>Yes</td>\n",
              "      <td>Electronic check</td>\n",
              "      <td>Yes</td>\n",
              "    </tr>\n",
              "    <tr>\n",
              "      <th>...</th>\n",
              "      <td>...</td>\n",
              "      <td>...</td>\n",
              "      <td>...</td>\n",
              "      <td>...</td>\n",
              "      <td>...</td>\n",
              "      <td>...</td>\n",
              "      <td>...</td>\n",
              "      <td>...</td>\n",
              "      <td>...</td>\n",
              "      <td>...</td>\n",
              "      <td>...</td>\n",
              "      <td>...</td>\n",
              "      <td>...</td>\n",
              "      <td>...</td>\n",
              "      <td>...</td>\n",
              "      <td>...</td>\n",
              "    </tr>\n",
              "    <tr>\n",
              "      <th>7038</th>\n",
              "      <td>Male</td>\n",
              "      <td>Yes</td>\n",
              "      <td>Yes</td>\n",
              "      <td>Yes</td>\n",
              "      <td>Yes</td>\n",
              "      <td>DSL</td>\n",
              "      <td>Yes</td>\n",
              "      <td>No</td>\n",
              "      <td>Yes</td>\n",
              "      <td>Yes</td>\n",
              "      <td>Yes</td>\n",
              "      <td>Yes</td>\n",
              "      <td>One year</td>\n",
              "      <td>Yes</td>\n",
              "      <td>Mailed check</td>\n",
              "      <td>No</td>\n",
              "    </tr>\n",
              "    <tr>\n",
              "      <th>7039</th>\n",
              "      <td>Female</td>\n",
              "      <td>Yes</td>\n",
              "      <td>Yes</td>\n",
              "      <td>Yes</td>\n",
              "      <td>Yes</td>\n",
              "      <td>Fiber optic</td>\n",
              "      <td>No</td>\n",
              "      <td>Yes</td>\n",
              "      <td>Yes</td>\n",
              "      <td>No</td>\n",
              "      <td>Yes</td>\n",
              "      <td>Yes</td>\n",
              "      <td>One year</td>\n",
              "      <td>Yes</td>\n",
              "      <td>Credit card (automatic)</td>\n",
              "      <td>No</td>\n",
              "    </tr>\n",
              "    <tr>\n",
              "      <th>7040</th>\n",
              "      <td>Female</td>\n",
              "      <td>Yes</td>\n",
              "      <td>Yes</td>\n",
              "      <td>No</td>\n",
              "      <td>No phone service</td>\n",
              "      <td>DSL</td>\n",
              "      <td>Yes</td>\n",
              "      <td>No</td>\n",
              "      <td>No</td>\n",
              "      <td>No</td>\n",
              "      <td>No</td>\n",
              "      <td>No</td>\n",
              "      <td>Month-to-month</td>\n",
              "      <td>Yes</td>\n",
              "      <td>Electronic check</td>\n",
              "      <td>No</td>\n",
              "    </tr>\n",
              "    <tr>\n",
              "      <th>7041</th>\n",
              "      <td>Male</td>\n",
              "      <td>Yes</td>\n",
              "      <td>No</td>\n",
              "      <td>Yes</td>\n",
              "      <td>Yes</td>\n",
              "      <td>Fiber optic</td>\n",
              "      <td>No</td>\n",
              "      <td>No</td>\n",
              "      <td>No</td>\n",
              "      <td>No</td>\n",
              "      <td>No</td>\n",
              "      <td>No</td>\n",
              "      <td>Month-to-month</td>\n",
              "      <td>Yes</td>\n",
              "      <td>Mailed check</td>\n",
              "      <td>Yes</td>\n",
              "    </tr>\n",
              "    <tr>\n",
              "      <th>7042</th>\n",
              "      <td>Male</td>\n",
              "      <td>No</td>\n",
              "      <td>No</td>\n",
              "      <td>Yes</td>\n",
              "      <td>No</td>\n",
              "      <td>Fiber optic</td>\n",
              "      <td>Yes</td>\n",
              "      <td>No</td>\n",
              "      <td>Yes</td>\n",
              "      <td>Yes</td>\n",
              "      <td>Yes</td>\n",
              "      <td>Yes</td>\n",
              "      <td>Two year</td>\n",
              "      <td>Yes</td>\n",
              "      <td>Bank transfer (automatic)</td>\n",
              "      <td>No</td>\n",
              "    </tr>\n",
              "  </tbody>\n",
              "</table>\n",
              "<p>7043 rows × 16 columns</p>\n",
              "</div>\n",
              "    <div class=\"colab-df-buttons\">\n",
              "\n",
              "  <div class=\"colab-df-container\">\n",
              "    <button class=\"colab-df-convert\" onclick=\"convertToInteractive('df-9058e055-8173-4599-a939-2ddaf821ac29')\"\n",
              "            title=\"Convert this dataframe to an interactive table.\"\n",
              "            style=\"display:none;\">\n",
              "\n",
              "  <svg xmlns=\"http://www.w3.org/2000/svg\" height=\"24px\" viewBox=\"0 -960 960 960\">\n",
              "    <path d=\"M120-120v-720h720v720H120Zm60-500h600v-160H180v160Zm220 220h160v-160H400v160Zm0 220h160v-160H400v160ZM180-400h160v-160H180v160Zm440 0h160v-160H620v160ZM180-180h160v-160H180v160Zm440 0h160v-160H620v160Z\"/>\n",
              "  </svg>\n",
              "    </button>\n",
              "\n",
              "  <style>\n",
              "    .colab-df-container {\n",
              "      display:flex;\n",
              "      gap: 12px;\n",
              "    }\n",
              "\n",
              "    .colab-df-convert {\n",
              "      background-color: #E8F0FE;\n",
              "      border: none;\n",
              "      border-radius: 50%;\n",
              "      cursor: pointer;\n",
              "      display: none;\n",
              "      fill: #1967D2;\n",
              "      height: 32px;\n",
              "      padding: 0 0 0 0;\n",
              "      width: 32px;\n",
              "    }\n",
              "\n",
              "    .colab-df-convert:hover {\n",
              "      background-color: #E2EBFA;\n",
              "      box-shadow: 0px 1px 2px rgba(60, 64, 67, 0.3), 0px 1px 3px 1px rgba(60, 64, 67, 0.15);\n",
              "      fill: #174EA6;\n",
              "    }\n",
              "\n",
              "    .colab-df-buttons div {\n",
              "      margin-bottom: 4px;\n",
              "    }\n",
              "\n",
              "    [theme=dark] .colab-df-convert {\n",
              "      background-color: #3B4455;\n",
              "      fill: #D2E3FC;\n",
              "    }\n",
              "\n",
              "    [theme=dark] .colab-df-convert:hover {\n",
              "      background-color: #434B5C;\n",
              "      box-shadow: 0px 1px 3px 1px rgba(0, 0, 0, 0.15);\n",
              "      filter: drop-shadow(0px 1px 2px rgba(0, 0, 0, 0.3));\n",
              "      fill: #FFFFFF;\n",
              "    }\n",
              "  </style>\n",
              "\n",
              "    <script>\n",
              "      const buttonEl =\n",
              "        document.querySelector('#df-9058e055-8173-4599-a939-2ddaf821ac29 button.colab-df-convert');\n",
              "      buttonEl.style.display =\n",
              "        google.colab.kernel.accessAllowed ? 'block' : 'none';\n",
              "\n",
              "      async function convertToInteractive(key) {\n",
              "        const element = document.querySelector('#df-9058e055-8173-4599-a939-2ddaf821ac29');\n",
              "        const dataTable =\n",
              "          await google.colab.kernel.invokeFunction('convertToInteractive',\n",
              "                                                    [key], {});\n",
              "        if (!dataTable) return;\n",
              "\n",
              "        const docLinkHtml = 'Like what you see? Visit the ' +\n",
              "          '<a target=\"_blank\" href=https://colab.research.google.com/notebooks/data_table.ipynb>data table notebook</a>'\n",
              "          + ' to learn more about interactive tables.';\n",
              "        element.innerHTML = '';\n",
              "        dataTable['output_type'] = 'display_data';\n",
              "        await google.colab.output.renderOutput(dataTable, element);\n",
              "        const docLink = document.createElement('div');\n",
              "        docLink.innerHTML = docLinkHtml;\n",
              "        element.appendChild(docLink);\n",
              "      }\n",
              "    </script>\n",
              "  </div>\n",
              "\n",
              "\n",
              "<div id=\"df-25b233f8-75da-4f5e-b0e4-57bede37fd24\">\n",
              "  <button class=\"colab-df-quickchart\" onclick=\"quickchart('df-25b233f8-75da-4f5e-b0e4-57bede37fd24')\"\n",
              "            title=\"Suggest charts\"\n",
              "            style=\"display:none;\">\n",
              "\n",
              "<svg xmlns=\"http://www.w3.org/2000/svg\" height=\"24px\"viewBox=\"0 0 24 24\"\n",
              "     width=\"24px\">\n",
              "    <g>\n",
              "        <path d=\"M19 3H5c-1.1 0-2 .9-2 2v14c0 1.1.9 2 2 2h14c1.1 0 2-.9 2-2V5c0-1.1-.9-2-2-2zM9 17H7v-7h2v7zm4 0h-2V7h2v10zm4 0h-2v-4h2v4z\"/>\n",
              "    </g>\n",
              "</svg>\n",
              "  </button>\n",
              "\n",
              "<style>\n",
              "  .colab-df-quickchart {\n",
              "      --bg-color: #E8F0FE;\n",
              "      --fill-color: #1967D2;\n",
              "      --hover-bg-color: #E2EBFA;\n",
              "      --hover-fill-color: #174EA6;\n",
              "      --disabled-fill-color: #AAA;\n",
              "      --disabled-bg-color: #DDD;\n",
              "  }\n",
              "\n",
              "  [theme=dark] .colab-df-quickchart {\n",
              "      --bg-color: #3B4455;\n",
              "      --fill-color: #D2E3FC;\n",
              "      --hover-bg-color: #434B5C;\n",
              "      --hover-fill-color: #FFFFFF;\n",
              "      --disabled-bg-color: #3B4455;\n",
              "      --disabled-fill-color: #666;\n",
              "  }\n",
              "\n",
              "  .colab-df-quickchart {\n",
              "    background-color: var(--bg-color);\n",
              "    border: none;\n",
              "    border-radius: 50%;\n",
              "    cursor: pointer;\n",
              "    display: none;\n",
              "    fill: var(--fill-color);\n",
              "    height: 32px;\n",
              "    padding: 0;\n",
              "    width: 32px;\n",
              "  }\n",
              "\n",
              "  .colab-df-quickchart:hover {\n",
              "    background-color: var(--hover-bg-color);\n",
              "    box-shadow: 0 1px 2px rgba(60, 64, 67, 0.3), 0 1px 3px 1px rgba(60, 64, 67, 0.15);\n",
              "    fill: var(--button-hover-fill-color);\n",
              "  }\n",
              "\n",
              "  .colab-df-quickchart-complete:disabled,\n",
              "  .colab-df-quickchart-complete:disabled:hover {\n",
              "    background-color: var(--disabled-bg-color);\n",
              "    fill: var(--disabled-fill-color);\n",
              "    box-shadow: none;\n",
              "  }\n",
              "\n",
              "  .colab-df-spinner {\n",
              "    border: 2px solid var(--fill-color);\n",
              "    border-color: transparent;\n",
              "    border-bottom-color: var(--fill-color);\n",
              "    animation:\n",
              "      spin 1s steps(1) infinite;\n",
              "  }\n",
              "\n",
              "  @keyframes spin {\n",
              "    0% {\n",
              "      border-color: transparent;\n",
              "      border-bottom-color: var(--fill-color);\n",
              "      border-left-color: var(--fill-color);\n",
              "    }\n",
              "    20% {\n",
              "      border-color: transparent;\n",
              "      border-left-color: var(--fill-color);\n",
              "      border-top-color: var(--fill-color);\n",
              "    }\n",
              "    30% {\n",
              "      border-color: transparent;\n",
              "      border-left-color: var(--fill-color);\n",
              "      border-top-color: var(--fill-color);\n",
              "      border-right-color: var(--fill-color);\n",
              "    }\n",
              "    40% {\n",
              "      border-color: transparent;\n",
              "      border-right-color: var(--fill-color);\n",
              "      border-top-color: var(--fill-color);\n",
              "    }\n",
              "    60% {\n",
              "      border-color: transparent;\n",
              "      border-right-color: var(--fill-color);\n",
              "    }\n",
              "    80% {\n",
              "      border-color: transparent;\n",
              "      border-right-color: var(--fill-color);\n",
              "      border-bottom-color: var(--fill-color);\n",
              "    }\n",
              "    90% {\n",
              "      border-color: transparent;\n",
              "      border-bottom-color: var(--fill-color);\n",
              "    }\n",
              "  }\n",
              "</style>\n",
              "\n",
              "  <script>\n",
              "    async function quickchart(key) {\n",
              "      const quickchartButtonEl =\n",
              "        document.querySelector('#' + key + ' button');\n",
              "      quickchartButtonEl.disabled = true;  // To prevent multiple clicks.\n",
              "      quickchartButtonEl.classList.add('colab-df-spinner');\n",
              "      try {\n",
              "        const charts = await google.colab.kernel.invokeFunction(\n",
              "            'suggestCharts', [key], {});\n",
              "      } catch (error) {\n",
              "        console.error('Error during call to suggestCharts:', error);\n",
              "      }\n",
              "      quickchartButtonEl.classList.remove('colab-df-spinner');\n",
              "      quickchartButtonEl.classList.add('colab-df-quickchart-complete');\n",
              "    }\n",
              "    (() => {\n",
              "      let quickchartButtonEl =\n",
              "        document.querySelector('#df-25b233f8-75da-4f5e-b0e4-57bede37fd24 button');\n",
              "      quickchartButtonEl.style.display =\n",
              "        google.colab.kernel.accessAllowed ? 'block' : 'none';\n",
              "    })();\n",
              "  </script>\n",
              "</div>\n",
              "    </div>\n",
              "  </div>\n"
            ]
          },
          "metadata": {},
          "execution_count": 8
        }
      ]
    },
    {
      "cell_type": "markdown",
      "source": [
        "Label Encoding and Imputation"
      ],
      "metadata": {
        "id": "DngMZdOnfOyv"
      }
    },
    {
      "cell_type": "code",
      "source": [
        "from sklearn.impute import SimpleImputer\n",
        "import pandas as pd\n",
        "from sklearn.preprocessing import LabelEncoder\n",
        "\n",
        "#Since I am using one-hot encoding and label encoding, it is better to impute before encoding since one-hot encoding cannot directly handle missing categorical data\n",
        "#Where most_frequent means mode\n",
        "imputer_ = SimpleImputer(strategy='most_frequent')\n",
        "\n",
        "# impute for categorical columns\n",
        "final_churn_categoric = imputer_.fit_transform(churn_categoric)\n",
        "final_churn_categoric = pd.DataFrame(final_churn_categoric, columns=churn_categoric.columns)\n",
        "\n",
        "# Impute for numeric columns(median could also work here in place of mean)\n",
        "numeric_imputer = SimpleImputer(strategy='mean')\n",
        "churn_numeric_imputed = pd.DataFrame(numeric_imputer.fit_transform(churn_numeric), columns=churn_numeric.columns)\n",
        "\n",
        "# Doing Label Encoding for the categorical columns only\n",
        "label_encoder = LabelEncoder()\n",
        "for column in final_churn_categoric.columns:\n",
        "    final_churn_categoric[column] = label_encoder.fit_transform(final_churn_categoric[column])\n",
        "\n",
        "#Concating both the imputed numeric columns with the imputed and encoded categorical columns into one whole dataframe\n",
        "final_churn_file = pd.concat([churn_numeric_imputed, final_churn_categoric], axis=1)\n",
        "\n",
        "#printing the final dataframe to see how it looks\n",
        "print(final_churn_file)\n",
        "final_churn_file.info()"
      ],
      "metadata": {
        "colab": {
          "base_uri": "https://localhost:8080/"
        },
        "id": "4Dcxk9ROwCey",
        "outputId": "95f666e9-6d6e-407e-ec16-c3539ed5b043"
      },
      "execution_count": 9,
      "outputs": [
        {
          "output_type": "stream",
          "name": "stdout",
          "text": [
            "      SeniorCitizen  tenure  MonthlyCharges  TotalCharges  gender  Partner  \\\n",
            "0               0.0     1.0           29.85     29.850000       0        1   \n",
            "1               0.0    34.0           56.95   1889.500000       1        0   \n",
            "2               0.0     2.0           53.85    108.150002       1        0   \n",
            "3               0.0    45.0           42.30   1840.750000       1        0   \n",
            "4               0.0     2.0           70.70    151.649994       0        0   \n",
            "...             ...     ...             ...           ...     ...      ...   \n",
            "7038            0.0    24.0           84.80   1990.500000       1        1   \n",
            "7039            0.0    72.0          103.20   7362.899902       0        1   \n",
            "7040            0.0    11.0           29.60    346.450012       0        1   \n",
            "7041            1.0     4.0           74.40    306.600006       1        1   \n",
            "7042            0.0    66.0          105.65   6844.500000       1        0   \n",
            "\n",
            "      Dependents  PhoneService  MultipleLines  InternetService  \\\n",
            "0              0             0              1                0   \n",
            "1              0             1              0                0   \n",
            "2              0             1              0                0   \n",
            "3              0             0              1                0   \n",
            "4              0             1              0                1   \n",
            "...          ...           ...            ...              ...   \n",
            "7038           1             1              2                0   \n",
            "7039           1             1              2                1   \n",
            "7040           1             0              1                0   \n",
            "7041           0             1              2                1   \n",
            "7042           0             1              0                1   \n",
            "\n",
            "      OnlineSecurity  OnlineBackup  DeviceProtection  TechSupport  \\\n",
            "0                  0             2                 0            0   \n",
            "1                  2             0                 2            0   \n",
            "2                  2             2                 0            0   \n",
            "3                  2             0                 2            2   \n",
            "4                  0             0                 0            0   \n",
            "...              ...           ...               ...          ...   \n",
            "7038               2             0                 2            2   \n",
            "7039               0             2                 2            0   \n",
            "7040               2             0                 0            0   \n",
            "7041               0             0                 0            0   \n",
            "7042               2             0                 2            2   \n",
            "\n",
            "      StreamingTV  StreamingMovies  Contract  PaperlessBilling  PaymentMethod  \\\n",
            "0               0                0         0                 1              2   \n",
            "1               0                0         1                 0              3   \n",
            "2               0                0         0                 1              3   \n",
            "3               0                0         1                 0              0   \n",
            "4               0                0         0                 1              2   \n",
            "...           ...              ...       ...               ...            ...   \n",
            "7038            2                2         1                 1              3   \n",
            "7039            2                2         1                 1              1   \n",
            "7040            0                0         0                 1              2   \n",
            "7041            0                0         0                 1              3   \n",
            "7042            2                2         2                 1              0   \n",
            "\n",
            "      Churn  \n",
            "0         0  \n",
            "1         0  \n",
            "2         1  \n",
            "3         0  \n",
            "4         1  \n",
            "...     ...  \n",
            "7038      0  \n",
            "7039      0  \n",
            "7040      0  \n",
            "7041      1  \n",
            "7042      0  \n",
            "\n",
            "[7043 rows x 20 columns]\n",
            "<class 'pandas.core.frame.DataFrame'>\n",
            "RangeIndex: 7043 entries, 0 to 7042\n",
            "Data columns (total 20 columns):\n",
            " #   Column            Non-Null Count  Dtype  \n",
            "---  ------            --------------  -----  \n",
            " 0   SeniorCitizen     7043 non-null   float64\n",
            " 1   tenure            7043 non-null   float64\n",
            " 2   MonthlyCharges    7043 non-null   float64\n",
            " 3   TotalCharges      7043 non-null   float64\n",
            " 4   gender            7043 non-null   int64  \n",
            " 5   Partner           7043 non-null   int64  \n",
            " 6   Dependents        7043 non-null   int64  \n",
            " 7   PhoneService      7043 non-null   int64  \n",
            " 8   MultipleLines     7043 non-null   int64  \n",
            " 9   InternetService   7043 non-null   int64  \n",
            " 10  OnlineSecurity    7043 non-null   int64  \n",
            " 11  OnlineBackup      7043 non-null   int64  \n",
            " 12  DeviceProtection  7043 non-null   int64  \n",
            " 13  TechSupport       7043 non-null   int64  \n",
            " 14  StreamingTV       7043 non-null   int64  \n",
            " 15  StreamingMovies   7043 non-null   int64  \n",
            " 16  Contract          7043 non-null   int64  \n",
            " 17  PaperlessBilling  7043 non-null   int64  \n",
            " 18  PaymentMethod     7043 non-null   int64  \n",
            " 19  Churn             7043 non-null   int64  \n",
            "dtypes: float64(4), int64(16)\n",
            "memory usage: 1.1 MB\n"
          ]
        }
      ]
    },
    {
      "cell_type": "markdown",
      "source": [
        "Feature Selection (QUESTION 1)"
      ],
      "metadata": {
        "id": "m4mMZkcpX2pR"
      }
    },
    {
      "cell_type": "code",
      "source": [
        "from sklearn.ensemble import RandomForestClassifier\n",
        "import pandas as pd\n",
        "\n",
        "# Initialization\n",
        "rf_classifier = RandomForestClassifier(n_estimators=100, random_state=42)\n",
        "\n",
        "#specifying the target variable\n",
        "target_variable = final_churn_file['Churn']\n",
        "rf_classifier.fit(final_churn_file, target_variable )\n",
        "\n",
        "# Extract the feature importances and create a dataframe for them\n",
        "feature_importances = rf_classifier.feature_importances_\n",
        "\n",
        "# Create a DataFrame with feature names and their importances\n",
        "feature_importance_dataframe = pd.DataFrame({'Feature': final_churn_file.columns, 'Importance': feature_importances})\n",
        "\n",
        "#This prints the features importance in a descending order because of the (by='Importance', ascending=False) command\n",
        "feature_importance_dataframe= feature_importance_dataframe.sort_values(by='Importance', ascending=False)\n",
        "print(feature_importance_dataframe)\n",
        "\n",
        "\n",
        "\n",
        "\n"
      ],
      "metadata": {
        "colab": {
          "base_uri": "https://localhost:8080/"
        },
        "id": "wU7zhW1e02rf",
        "outputId": "10ed641e-a9dc-4f76-9cf5-bd7038e3034f"
      },
      "execution_count": 10,
      "outputs": [
        {
          "output_type": "stream",
          "name": "stdout",
          "text": [
            "             Feature  Importance\n",
            "19             Churn    0.766652\n",
            "16          Contract    0.051611\n",
            "1             tenure    0.037828\n",
            "10    OnlineSecurity    0.025901\n",
            "3       TotalCharges    0.024908\n",
            "2     MonthlyCharges    0.022657\n",
            "13       TechSupport    0.017283\n",
            "9    InternetService    0.010614\n",
            "11      OnlineBackup    0.009980\n",
            "18     PaymentMethod    0.007565\n",
            "12  DeviceProtection    0.006045\n",
            "17  PaperlessBilling    0.003225\n",
            "15   StreamingMovies    0.002557\n",
            "8      MultipleLines    0.002377\n",
            "4             gender    0.002212\n",
            "14       StreamingTV    0.002089\n",
            "5            Partner    0.002012\n",
            "0      SeniorCitizen    0.002008\n",
            "6         Dependents    0.001941\n",
            "7       PhoneService    0.000534\n"
          ]
        }
      ]
    },
    {
      "cell_type": "markdown",
      "source": [
        "EDA (QUESTION 2)"
      ],
      "metadata": {
        "id": "LXjJavtE719p"
      }
    },
    {
      "cell_type": "code",
      "source": [
        "#To view my numeric features statistical characteristics\n",
        "print(final_churn_file.describe())"
      ],
      "metadata": {
        "id": "aYK82tIU8EeD",
        "colab": {
          "base_uri": "https://localhost:8080/"
        },
        "outputId": "d5021764-db15-4263-f16b-233ce5d92a5a"
      },
      "execution_count": 11,
      "outputs": [
        {
          "output_type": "stream",
          "name": "stdout",
          "text": [
            "       SeniorCitizen       tenure  MonthlyCharges  TotalCharges       gender  \\\n",
            "count    7043.000000  7043.000000     7043.000000   7043.000000  7043.000000   \n",
            "mean        0.162147    32.371149       64.761692   2283.300441     0.504756   \n",
            "std         0.368612    24.559481       30.090047   2265.000259     0.500013   \n",
            "min         0.000000     0.000000       18.250000     18.799999     0.000000   \n",
            "25%         0.000000     9.000000       35.500000    402.225006     0.000000   \n",
            "50%         0.000000    29.000000       70.350000   1400.550049     1.000000   \n",
            "75%         0.000000    55.000000       89.850000   3786.599976     1.000000   \n",
            "max         1.000000    72.000000      118.750000   8684.799805     1.000000   \n",
            "\n",
            "           Partner   Dependents  PhoneService  MultipleLines  InternetService  \\\n",
            "count  7043.000000  7043.000000   7043.000000    7043.000000      7043.000000   \n",
            "mean      0.483033     0.299588      0.903166       0.940508         0.872923   \n",
            "std       0.499748     0.458110      0.295752       0.948554         0.737796   \n",
            "min       0.000000     0.000000      0.000000       0.000000         0.000000   \n",
            "25%       0.000000     0.000000      1.000000       0.000000         0.000000   \n",
            "50%       0.000000     0.000000      1.000000       1.000000         1.000000   \n",
            "75%       1.000000     1.000000      1.000000       2.000000         1.000000   \n",
            "max       1.000000     1.000000      1.000000       2.000000         2.000000   \n",
            "\n",
            "       OnlineSecurity  OnlineBackup  DeviceProtection  TechSupport  \\\n",
            "count     7043.000000   7043.000000       7043.000000  7043.000000   \n",
            "mean         0.790004      0.906432          0.904444     0.797104   \n",
            "std          0.859848      0.880162          0.879949     0.861551   \n",
            "min          0.000000      0.000000          0.000000     0.000000   \n",
            "25%          0.000000      0.000000          0.000000     0.000000   \n",
            "50%          1.000000      1.000000          1.000000     1.000000   \n",
            "75%          2.000000      2.000000          2.000000     2.000000   \n",
            "max          2.000000      2.000000          2.000000     2.000000   \n",
            "\n",
            "       StreamingTV  StreamingMovies     Contract  PaperlessBilling  \\\n",
            "count  7043.000000      7043.000000  7043.000000       7043.000000   \n",
            "mean      0.985376         0.992475     0.690473          0.592219   \n",
            "std       0.885002         0.885091     0.833755          0.491457   \n",
            "min       0.000000         0.000000     0.000000          0.000000   \n",
            "25%       0.000000         0.000000     0.000000          0.000000   \n",
            "50%       1.000000         1.000000     0.000000          1.000000   \n",
            "75%       2.000000         2.000000     1.000000          1.000000   \n",
            "max       2.000000         2.000000     2.000000          1.000000   \n",
            "\n",
            "       PaymentMethod        Churn  \n",
            "count    7043.000000  7043.000000  \n",
            "mean        1.574329     0.265370  \n",
            "std         1.068104     0.441561  \n",
            "min         0.000000     0.000000  \n",
            "25%         1.000000     0.000000  \n",
            "50%         2.000000     0.000000  \n",
            "75%         2.000000     1.000000  \n",
            "max         3.000000     1.000000  \n"
          ]
        }
      ]
    },
    {
      "cell_type": "code",
      "source": [
        "import seaborn as sns\n",
        "import matplotlib.pyplot as plt\n",
        "\n",
        "#Manually specifying my top most 6 features\n",
        "top_six_features = ['Contract', 'OnlineSecurity','tenure','MonthlyCharges','TotalCharges', 'TechSupport']\n",
        "\n",
        "#Choosing colours for my boxplot and countplot\n",
        "boxplot_color = 'pink'\n",
        "countplot_color = 'Orange'\n",
        "\n",
        "# Looping through each column in the top_six_features List\n",
        "for column in top_six_features:\n",
        "    # checks for numerical first and uses a boxplot if its numerical\n",
        "    if final_churn_file[column].dtype != 'object':\n",
        "        sns.boxplot(x='Churn', y=column, data=final_churn_file, palette={boxplot_color})\n",
        "        plt.title(f'Boxplot for {column}')\n",
        "        plt.show()\n",
        "    else:\n",
        "        # Countplot for Churn\n",
        "        sns.countplot(x=column, hue='Churn', data=final_churn_file, color=countplot_color)\n",
        "        plt.title(f'Countplot for {column}')\n",
        "        plt.show()"
      ],
      "metadata": {
        "id": "eV4W21Br9WRm",
        "colab": {
          "base_uri": "https://localhost:8080/",
          "height": 1000
        },
        "outputId": "d18b69d8-3569-4b64-dba9-1160a1b3f45a"
      },
      "execution_count": 12,
      "outputs": [
        {
          "output_type": "display_data",
          "data": {
            "text/plain": [
              "<Figure size 640x480 with 1 Axes>"
            ],
            "image/png": "[encoded data removed]"
          },
          "metadata": {}
        },
        {
          "output_type": "display_data",
          "data": {
            "text/plain": [
              "<Figure size 640x480 with 1 Axes>"
            ],
            "image/png": "[encoded data removed]"
          },
          "metadata": {}
        },
        {
          "output_type": "display_data",
          "data": {
            "text/plain": [
              "<Figure size 640x480 with 1 Axes>"
            ],
            "image/png": "[encoded data removed]"
          },
          "metadata": {}
        },
        {
          "output_type": "display_data",
          "data": {
            "text/plain": [
              "<Figure size 640x480 with 1 Axes>"
            ],
            "image/png": "[encoded data removed]"
          },
          "metadata": {}
        },
        {
          "output_type": "display_data",
          "data": {
            "text/plain": [
              "<Figure size 640x480 with 1 Axes>"
            ],
            "image/png": "[encoded data removed]"
          },
          "metadata": {}
        },
        {
          "output_type": "display_data",
          "data": {
            "text/plain": [
              "<Figure size 640x480 with 1 Axes>"
            ],
            "image/png": "[encoded data removed]"
          },
          "metadata": {}
        }
      ]
    },
    {
      "cell_type": "markdown",
      "source": [
        "EDA Interpretation"
      ],
      "metadata": {
        "id": "3XQqPngaJ3wF"
      }
    },
    {
      "cell_type": "code",
      "source": [
        "#Per my statistics knowledge, here are my analysis from the resuslts of my EDA of plotting my top 6 features against churn\n",
        "#With tenure, Churn has a median of 9 which is lower than the median for non-churn, which is approximately 38. This could suggest that customers with a higher tenure are not likely to churn.\n",
        "\n",
        "#With monthly charges, Churn has a higher median value of about 81, while non-churn has a median of approx. 64. This could suggest people who experience higher monthly charges are more likely to churn.\n",
        "\n",
        "#For Totalcharges, Churn has a median value of approx. 600, while non-churn has a median of approx. 1800. This could suggest that people with a higher Totalcharge value are likely to NOT churn.\n",
        "\n",
        "#From the structure/nature of the boxplot seen, the churn boxplot has a negligible association with the following features: contract, online security, and Tech support."
      ],
      "metadata": {
        "id": "_oOmSOQhKAfg"
      },
      "execution_count": null,
      "outputs": []
    },
    {
      "cell_type": "markdown",
      "source": [
        "Training (QUESTION 3)"
      ],
      "metadata": {
        "id": "z3VS-a1ENfpj"
      }
    },
    {
      "cell_type": "code",
      "source": [
        "!pip install tensorflow==2.8.0\n",
        "import pandas as pd\n",
        "import numpy as np\n",
        "from sklearn.model_selection import train_test_split\n",
        "from sklearn.preprocessing import StandardScaler\n",
        "from sklearn.metrics import accuracy_score,roc_auc_score\n",
        "from tensorflow.keras.layers import Input, Dense\n",
        "from tensorflow.keras.models import Model\n",
        "from tensorflow.keras.wrappers.scikit_learn import KerasClassifier\n",
        "from sklearn.model_selection import GridSearchCV\n",
        "from sklearn.model_selection import StratifiedKFold\n",
        "\n",
        "\n",
        "top_features = ['Contract', 'tenure', 'OnlineSecurity', 'TotalCharges', 'MonthlyCharges', 'TechSupport']\n",
        "\n",
        "# Extract the selected features and target variable\n",
        "X = final_churn_file[top_features]\n",
        "y = final_churn_file['Churn']\n",
        "\n",
        "# Splitting data and scaling\n",
        "X_train, X_test, y_train, y_test = train_test_split(X, y, test_size=0.2, random_state=42)\n",
        "scaler = StandardScaler()\n",
        "X_train_scaled = scaler.fit_transform(X_train)\n",
        "X_test_scaled = scaler.transform(X_test)\n",
        "\n",
        "# Using functional API(keras) to create the model\n",
        "def create_model(input_shape, hidden_layer_sizes=(50, 50), activation='relu', solver='adam', alpha=0.0001):\n",
        "    inputs = Input(shape=(input_shape,))\n",
        "    x = Dense(hidden_layer_sizes[0], activation=activation)(inputs)\n",
        "\n",
        "    if len(hidden_layer_sizes) > 1:\n",
        "        for units in hidden_layer_sizes[1:]:\n",
        "            x = Dense(units, activation='relu')(x)\n",
        "\n",
        "    output = Dense(1, activation='sigmoid')(x)\n",
        "\n",
        "    model = Model(inputs=inputs, outputs=output)\n",
        "    model.compile(optimizer=solver, loss='binary_crossentropy', metrics=['accuracy'])\n",
        "    return model\n",
        "\n",
        "# Using KerasClassifier for easy hyperparameter fine-tuning within scikit-learn\n",
        "keras_model = KerasClassifier(build_fn=create_model, input_shape=X_train.shape[1], verbose=0)\n",
        "\n",
        "# Parameters for the grid search\n",
        "param_grid = {\n",
        "    'hidden_layer_sizes': [(55, 45), (100,)],\n",
        "    'activation': ['relu', 'tanh'],\n",
        "    'solver': ['adam', 'sgd'],\n",
        "    'alpha': [0.0001, 0.001, 0.01],\n",
        "}\n",
        "\n",
        "# Cross-validation Initialization\n",
        "cv = StratifiedKFold(n_splits=5, shuffle=True, random_state=42)\n",
        "\n",
        "# Initialize GridSearchCV and fitting the model\n",
        "grid_search = GridSearchCV(keras_model, param_grid, cv=cv, scoring='accuracy', n_jobs=-1)\n",
        "grid_search.fit(X_train_scaled, y_train)\n",
        "\n",
        "# Select the best parameters and predict\n",
        "best_params = grid_search.best_params_\n",
        "print(\"Best Parameters:\", best_params)\n",
        "y_pred = grid_search.predict(X_test_scaled)\n",
        "\n"
      ],
      "metadata": {
        "colab": {
          "base_uri": "https://localhost:8080/"
        },
        "id": "y1pkoY3PLbt1",
        "outputId": "edad8da4-864f-4c00-d36c-20fa43fb761d"
      },
      "execution_count": 17,
      "outputs": [
        {
          "output_type": "stream",
          "name": "stdout",
          "text": [
            "Requirement already satisfied: tensorflow==2.8.0 in /usr/local/lib/python3.10/dist-packages (2.8.0)\n",
            "Requirement already satisfied: absl-py>=0.4.0 in /usr/local/lib/python3.10/dist-packages (from tensorflow==2.8.0) (1.4.0)\n",
            "Requirement already satisfied: astunparse>=1.6.0 in /usr/local/lib/python3.10/dist-packages (from tensorflow==2.8.0) (1.6.3)\n",
            "Requirement already satisfied: flatbuffers>=1.12 in /usr/local/lib/python3.10/dist-packages (from tensorflow==2.8.0) (23.5.26)\n",
            "Requirement already satisfied: gast>=0.2.1 in /usr/local/lib/python3.10/dist-packages (from tensorflow==2.8.0) (0.5.4)\n",
            "Requirement already satisfied: google-pasta>=0.1.1 in /usr/local/lib/python3.10/dist-packages (from tensorflow==2.8.0) (0.2.0)\n",
            "Requirement already satisfied: h5py>=2.9.0 in /usr/local/lib/python3.10/dist-packages (from tensorflow==2.8.0) (3.9.0)\n",
            "Requirement already satisfied: keras-preprocessing>=1.1.1 in /usr/local/lib/python3.10/dist-packages (from tensorflow==2.8.0) (1.1.2)\n",
            "Requirement already satisfied: libclang>=9.0.1 in /usr/local/lib/python3.10/dist-packages (from tensorflow==2.8.0) (16.0.6)\n",
            "Requirement already satisfied: numpy>=1.20 in /usr/local/lib/python3.10/dist-packages (from tensorflow==2.8.0) (1.23.5)\n",
            "Requirement already satisfied: opt-einsum>=2.3.2 in /usr/local/lib/python3.10/dist-packages (from tensorflow==2.8.0) (3.3.0)\n",
            "Requirement already satisfied: protobuf>=3.9.2 in /usr/local/lib/python3.10/dist-packages (from tensorflow==2.8.0) (3.20.3)\n",
            "Requirement already satisfied: setuptools in /usr/local/lib/python3.10/dist-packages (from tensorflow==2.8.0) (67.7.2)\n",
            "Requirement already satisfied: six>=1.12.0 in /usr/local/lib/python3.10/dist-packages (from tensorflow==2.8.0) (1.16.0)\n",
            "Requirement already satisfied: termcolor>=1.1.0 in /usr/local/lib/python3.10/dist-packages (from tensorflow==2.8.0) (2.3.0)\n",
            "Requirement already satisfied: typing-extensions>=3.6.6 in /usr/local/lib/python3.10/dist-packages (from tensorflow==2.8.0) (4.5.0)\n",
            "Requirement already satisfied: wrapt>=1.11.0 in /usr/local/lib/python3.10/dist-packages (from tensorflow==2.8.0) (1.14.1)\n",
            "Requirement already satisfied: tensorboard<2.9,>=2.8 in /usr/local/lib/python3.10/dist-packages (from tensorflow==2.8.0) (2.8.0)\n",
            "Requirement already satisfied: tf-estimator-nightly==2.8.0.dev2021122109 in /usr/local/lib/python3.10/dist-packages (from tensorflow==2.8.0) (2.8.0.dev2021122109)\n",
            "Requirement already satisfied: keras<2.9,>=2.8.0rc0 in /usr/local/lib/python3.10/dist-packages (from tensorflow==2.8.0) (2.8.0)\n",
            "Requirement already satisfied: tensorflow-io-gcs-filesystem>=0.23.1 in /usr/local/lib/python3.10/dist-packages (from tensorflow==2.8.0) (0.34.0)\n",
            "Requirement already satisfied: grpcio<2.0,>=1.24.3 in /usr/local/lib/python3.10/dist-packages (from tensorflow==2.8.0) (1.59.2)\n",
            "Requirement already satisfied: wheel<1.0,>=0.23.0 in /usr/local/lib/python3.10/dist-packages (from astunparse>=1.6.0->tensorflow==2.8.0) (0.41.3)\n",
            "Requirement already satisfied: google-auth<3,>=1.6.3 in /usr/local/lib/python3.10/dist-packages (from tensorboard<2.9,>=2.8->tensorflow==2.8.0) (2.17.3)\n",
            "Requirement already satisfied: google-auth-oauthlib<0.5,>=0.4.1 in /usr/local/lib/python3.10/dist-packages (from tensorboard<2.9,>=2.8->tensorflow==2.8.0) (0.4.6)\n",
            "Requirement already satisfied: markdown>=2.6.8 in /usr/local/lib/python3.10/dist-packages (from tensorboard<2.9,>=2.8->tensorflow==2.8.0) (3.5.1)\n",
            "Requirement already satisfied: requests<3,>=2.21.0 in /usr/local/lib/python3.10/dist-packages (from tensorboard<2.9,>=2.8->tensorflow==2.8.0) (2.31.0)\n",
            "Requirement already satisfied: tensorboard-data-server<0.7.0,>=0.6.0 in /usr/local/lib/python3.10/dist-packages (from tensorboard<2.9,>=2.8->tensorflow==2.8.0) (0.6.1)\n",
            "Requirement already satisfied: tensorboard-plugin-wit>=1.6.0 in /usr/local/lib/python3.10/dist-packages (from tensorboard<2.9,>=2.8->tensorflow==2.8.0) (1.8.1)\n",
            "Requirement already satisfied: werkzeug>=0.11.15 in /usr/local/lib/python3.10/dist-packages (from tensorboard<2.9,>=2.8->tensorflow==2.8.0) (3.0.1)\n",
            "Requirement already satisfied: cachetools<6.0,>=2.0.0 in /usr/local/lib/python3.10/dist-packages (from google-auth<3,>=1.6.3->tensorboard<2.9,>=2.8->tensorflow==2.8.0) (5.3.2)\n",
            "Requirement already satisfied: pyasn1-modules>=0.2.1 in /usr/local/lib/python3.10/dist-packages (from google-auth<3,>=1.6.3->tensorboard<2.9,>=2.8->tensorflow==2.8.0) (0.3.0)\n",
            "Requirement already satisfied: rsa<5,>=3.1.4 in /usr/local/lib/python3.10/dist-packages (from google-auth<3,>=1.6.3->tensorboard<2.9,>=2.8->tensorflow==2.8.0) (4.9)\n",
            "Requirement already satisfied: requests-oauthlib>=0.7.0 in /usr/local/lib/python3.10/dist-packages (from google-auth-oauthlib<0.5,>=0.4.1->tensorboard<2.9,>=2.8->tensorflow==2.8.0) (1.3.1)\n",
            "Requirement already satisfied: charset-normalizer<4,>=2 in /usr/local/lib/python3.10/dist-packages (from requests<3,>=2.21.0->tensorboard<2.9,>=2.8->tensorflow==2.8.0) (3.3.2)\n",
            "Requirement already satisfied: idna<4,>=2.5 in /usr/local/lib/python3.10/dist-packages (from requests<3,>=2.21.0->tensorboard<2.9,>=2.8->tensorflow==2.8.0) (3.4)\n",
            "Requirement already satisfied: urllib3<3,>=1.21.1 in /usr/local/lib/python3.10/dist-packages (from requests<3,>=2.21.0->tensorboard<2.9,>=2.8->tensorflow==2.8.0) (2.0.7)\n",
            "Requirement already satisfied: certifi>=2017.4.17 in /usr/local/lib/python3.10/dist-packages (from requests<3,>=2.21.0->tensorboard<2.9,>=2.8->tensorflow==2.8.0) (2023.7.22)\n",
            "Requirement already satisfied: MarkupSafe>=2.1.1 in /usr/local/lib/python3.10/dist-packages (from werkzeug>=0.11.15->tensorboard<2.9,>=2.8->tensorflow==2.8.0) (2.1.3)\n",
            "Requirement already satisfied: pyasn1<0.6.0,>=0.4.6 in /usr/local/lib/python3.10/dist-packages (from pyasn1-modules>=0.2.1->google-auth<3,>=1.6.3->tensorboard<2.9,>=2.8->tensorflow==2.8.0) (0.5.0)\n",
            "Requirement already satisfied: oauthlib>=3.0.0 in /usr/local/lib/python3.10/dist-packages (from requests-oauthlib>=0.7.0->google-auth-oauthlib<0.5,>=0.4.1->tensorboard<2.9,>=2.8->tensorflow==2.8.0) (3.2.2)\n"
          ]
        },
        {
          "output_type": "stream",
          "name": "stderr",
          "text": [
            "<ipython-input-17-734ecc615cf0>:42: DeprecationWarning: KerasClassifier is deprecated, use Sci-Keras (https://github.com/adriangb/scikeras) instead. See https://www.adriangb.com/scikeras/stable/migration.html for help migrating.\n",
            "  keras_model = KerasClassifier(build_fn=create_model, input_shape=X_train.shape[1], verbose=0)\n"
          ]
        },
        {
          "output_type": "stream",
          "name": "stdout",
          "text": [
            "Best Parameters: {'activation': 'tanh', 'alpha': 0.01, 'hidden_layer_sizes': (100,), 'solver': 'adam'}\n"
          ]
        }
      ]
    },
    {
      "cell_type": "markdown",
      "source": [
        "Calculating the Model's Score and Evaluating the model's Accuracy(QUESTION 4)"
      ],
      "metadata": {
        "id": "tQjQNF5riG5M"
      }
    },
    {
      "cell_type": "code",
      "source": [
        "%%writefile create_model.py\n",
        "def create_model(input_shape, hidden_layer_sizes=(50, 50), activation='relu', solver='adam', alpha=0.0001):\n",
        "    inputs = Input(shape=(input_shape,))\n",
        "    x = Dense(hidden_layer_sizes[0], activation=activation)(inputs)\n",
        "\n",
        "    if len(hidden_layer_sizes) > 1:\n",
        "        for units in hidden_layer_sizes[1:]:\n",
        "            x = Dense(units, activation='relu')(x)\n",
        "\n",
        "    output = Dense(1, activation='sigmoid')(x)\n",
        "\n",
        "    model = Model(inputs=inputs, outputs=output)\n",
        "    model.compile(optimizer=solver, loss='binary_crossentropy', metrics=['accuracy'])\n",
        "    return model"
      ],
      "metadata": {
        "colab": {
          "base_uri": "https://localhost:8080/"
        },
        "id": "eP6Zc0vF9_JF",
        "outputId": "2bf1d079-671c-4a60-df02-e0365b8018fd"
      },
      "execution_count": 18,
      "outputs": [
        {
          "output_type": "stream",
          "name": "stdout",
          "text": [
            "Overwriting create_model.py\n"
          ]
        }
      ]
    },
    {
      "cell_type": "markdown",
      "source": [
        "Re-training and optimization again after calculating First AUC Score"
      ],
      "metadata": {
        "id": "QFiYejGfgPOi"
      }
    },
    {
      "cell_type": "code",
      "source": [
        "# Optimizing the model with the best parameters obtained from Gridsearch\n",
        "best_activation = best_params['activation']\n",
        "best_alpha = best_params['alpha']\n",
        "best_hidden_layer_sizes = best_params['hidden_layer_sizes']\n",
        "best_solver = best_params['solver']\n",
        "\n",
        "optimized_model = create_model(\n",
        "    hidden_layer_sizes=best_hidden_layer_sizes,\n",
        "    activation=best_activation,\n",
        "    solver=best_solver,\n",
        "    alpha=best_alpha,\n",
        "    input_shape=X_train_scaled.shape[1]\n",
        ")\n",
        "\n",
        "# Retrain the optimized model on the entire training set with epoch=55\n",
        "optimized_model.fit(X_train_scaled, y_train, epochs=65, batch_size=32, verbose=0)\n",
        "\n",
        "# Test the optimized model on the test set and evaluate its perfromance\n",
        "y_pred_optimized = (optimized_model.predict(X_test_scaled) > 0.5).astype(int).flatten()\n",
        "accuracy_optimized = accuracy_score(y_test, y_pred_optimized)\n",
        "print(\"Accuracy on Test Set after optimization:\", accuracy_optimized)\n",
        "\n",
        "# Calculate the AUC score for the optimized model\n",
        "y_pred_proba_optimized = optimized_model.predict(X_test_scaled).flatten()\n",
        "auc_score_optimized = roc_auc_score(y_test, y_pred_proba_optimized)\n",
        "print(\"AUC Score on Test Set for Optimized Model:\", auc_score_optimized)"
      ],
      "metadata": {
        "id": "j-uQ97-LjCho",
        "colab": {
          "base_uri": "https://localhost:8080/"
        },
        "outputId": "83e877c3-565e-4c76-eb67-b631fb96d3fe"
      },
      "execution_count": 19,
      "outputs": [
        {
          "output_type": "stream",
          "name": "stdout",
          "text": [
            "Accuracy on Test Set after optimization: 0.7991483321504613\n",
            "AUC Score on Test Set for Optimized Model: 0.8497637334768702\n"
          ]
        }
      ]
    },
    {
      "cell_type": "markdown",
      "source": [
        "Saving to Pickle File"
      ],
      "metadata": {
        "id": "ULf1DiHeB15n"
      }
    },
    {
      "cell_type": "code",
      "source": [
        "import pickle\n",
        "\n",
        "# Specifying the file name\n",
        "pickle_filename = \"optimized_model.pkl\"\n",
        "\n",
        "# Saving the model to the file\n",
        "with open(pickle_filename, 'wb') as model_file:\n",
        "    pickle.dump(optimized_model, model_file)\n",
        "\n",
        "\n"
      ],
      "metadata": {
        "id": "VfRPbGCZB6lT"
      },
      "execution_count": 20,
      "outputs": []
    },
    {
      "cell_type": "code",
      "source": [
        "# Specifying the file name for scaler\n",
        "pickle_filename = \"scaler.pkl\"\n",
        "\n",
        "# Saving the scaler to the file\n",
        "with open(pickle_filename, 'wb') as model_file:\n",
        "    pickle.dump(scaler, model_file)"
      ],
      "metadata": {
        "id": "FL0EDUvZ4Suo"
      },
      "execution_count": 21,
      "outputs": []
    },
    {
      "cell_type": "code",
      "source": [
        "# Specifying the file name for scaler\n",
        "import pickle\n",
        "pickle_filename = \"label.pkl\"\n",
        "\n",
        "# Saving the scaler to the file\n",
        "with open(pickle_filename, 'wb') as model_file:\n",
        "    pickle.dump(label_encoder, model_file)"
      ],
      "metadata": {
        "id": "-9-rICme6V7Z"
      },
      "execution_count": 22,
      "outputs": []
    }
  ]
}